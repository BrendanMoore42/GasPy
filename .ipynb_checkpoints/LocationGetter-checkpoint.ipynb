{
 "cells": [
  {
   "cell_type": "code",
   "execution_count": 54,
   "metadata": {},
   "outputs": [],
   "source": [
    "import re\n",
    "import requests\n",
    "import pandas as pd\n",
    "from ast import literal_eval\n",
    "from bs4 import BeautifulSoup\n",
    "\n",
    "header = {\n",
    "  \"User-Agent\": \"Mozilla/5.0 (X11; Linux x86_64) AppleWebKit/537.36 (KHTML, like Gecko) Chrome/50.0.2661.75 Safari/537.36\",\n",
    "  \"X-Requested-With\": \"XMLHttpRequest\"\n",
    "}"
   ]
  },
  {
   "cell_type": "code",
   "execution_count": 67,
   "metadata": {},
   "outputs": [],
   "source": [
    "\"\"\"\n",
    "Two steps: \n",
    "1. get gas prices from list in html with soup\n",
    "2. get station info from requests\n",
    "3. Combine and $$$\n",
    "\"\"\"\n",
    "url = 'https://www.gasbuddy.com/GasPrices/Ontario/Oakville'\n",
    "url_soup = requests.get(url)\n",
    "\n",
    "# Prices list\n",
    "soup = BeautifulSoup(url_soup.content, \"html.parser\")\n",
    "# Find prices\n",
    "prices = soup.text.split('p.a = ')[1].split(';\\r')[0].replace('[', '').replace(']', '').split(',\"')\n",
    "# Clean and remove 0's\n",
    "prices = [i.replace('\"', '') for i in prices if len(i) > 1]\n",
    "\n",
    "# Stations dataframe\n",
    "r = requests.get(url, headers=header)\n",
    "\n",
    "df = pd.read_html(r.text)[0]"
   ]
  },
  {
   "cell_type": "code",
   "execution_count": 79,
   "metadata": {},
   "outputs": [
    {
     "data": {
      "text/plain": [
       "'Pioneer  (157 reviews)  2451 Lakeshore Rd W & Bronte Rd  Oakville'"
      ]
     },
     "execution_count": 79,
     "metadata": {},
     "output_type": "execute_result"
    }
   ],
   "source": [
    "dfr = df[[1,2,3]].dropna().reset_index(drop=True)\n",
    "dfr['Prices'] = prices\n",
    "dfr[1][1]"
   ]
  },
  {
   "cell_type": "code",
   "execution_count": 33,
   "metadata": {},
   "outputs": [],
   "source": [
    "import requests\n",
    "\n",
    "url = 'https://www.gasbuddy.com/GasPrices/Ontario/Oakville'\n",
    "\n",
    "header = {\n",
    "  \"User-Agent\": \"Mozilla/5.0 (X11; Linux x86_64) AppleWebKit/537.36 (KHTML, like Gecko) Chrome/50.0.2661.75 Safari/537.36\",\n",
    "  \"X-Requested-With\": \"XMLHttpRequest\"\n",
    "}\n",
    "\n",
    "r = requests.get(url, headers=header)\n",
    "\n",
    "df = pd.read_html(r.text)"
   ]
  }
 ],
 "metadata": {
  "kernelspec": {
   "display_name": "Python 3",
   "language": "python",
   "name": "python3"
  },
  "language_info": {
   "codemirror_mode": {
    "name": "ipython",
    "version": 3
   },
   "file_extension": ".py",
   "mimetype": "text/x-python",
   "name": "python",
   "nbconvert_exporter": "python",
   "pygments_lexer": "ipython3",
   "version": "3.6.5"
  }
 },
 "nbformat": 4,
 "nbformat_minor": 2
}
